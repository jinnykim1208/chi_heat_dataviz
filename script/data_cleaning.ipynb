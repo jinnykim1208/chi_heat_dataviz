{
 "cells": [
  {
   "cell_type": "code",
   "execution_count": 1,
   "id": "704de985",
   "metadata": {},
   "outputs": [],
   "source": [
    "import polars as pl"
   ]
  },
  {
   "cell_type": "markdown",
   "id": "f9eb61c2",
   "metadata": {},
   "source": [
    "Assessor - Property Tax-Exempt Parcels\n",
    "\n",
    "- Data Description: Parcels with property tax-exempt status across all of Cook County per tax year, from Tax Year 2022 on, with geographic coordinates and addresses.\n",
    "- Source: https://datacatalog.cookcountyil.gov/Property-Taxation/Assessor-Property-Tax-Exempt-Parcels/vgzx-68gb/about_data\n",
    "- Download Date: Oct 16, 2025\n",
    "- Last Updated: Oct 1, 2025\n",
    "- Provided By: Cook County Assessor's Office"
   ]
  },
  {
   "cell_type": "code",
   "execution_count": 2,
   "id": "bad72936",
   "metadata": {},
   "outputs": [],
   "source": [
    "tax_exempt_raw = pl.read_csv(\"../data/Assessor_-_Property_Tax-Exempt_Parcels_20251016.csv\", \n",
    "                            ignore_errors=True,\n",
    "                            schema_overrides={\"pin\": pl.Utf8,\n",
    "                                                \"row_id\": pl.Utf8,\n",
    "                                                \"owner_num\": pl.Utf8,\n",
    "                                                \"township_code\": pl.Utf8})"
   ]
  },
  {
   "cell_type": "code",
   "execution_count": 3,
   "id": "7ad1c387",
   "metadata": {},
   "outputs": [],
   "source": [
    "uc_tax_exempt = tax_exempt_raw.filter(\n",
    "    ((pl.col(\"owner_name\") == \"UNIVERSITY OF CHICAGO\") | \n",
    "    (pl.col(\"owner_name\") == \"LAKE PK ASSOC. INC.\")) & \n",
    "    (pl.col(\"tax_year\") == 2025)\n",
    ").unique(\"pin\").select([\"pin\", \"tax_year\", \"township_name\", \"owner_name\", \"property_address\", \"longitude\", \"latitude\"])"
   ]
  },
  {
   "cell_type": "code",
   "execution_count": 4,
   "id": "4d3033da",
   "metadata": {},
   "outputs": [],
   "source": [
    "uc_tax_exempt_all = tax_exempt_raw.filter(\n",
    "    ((pl.col(\"owner_name\") == \"UNIVERSITY OF CHICAGO\") | \n",
    "    (pl.col(\"owner_name\") == \"LAKE PK ASSOC. INC.\")) \n",
    ").select([\"pin\", \"tax_year\", \"township_name\", \"owner_name\", \"property_address\", \"longitude\", \"latitude\"])"
   ]
  },
  {
   "cell_type": "code",
   "execution_count": 5,
   "id": "30d05a85",
   "metadata": {},
   "outputs": [],
   "source": [
    "tax_exempt_raw.write_parquet(\"../data/tax_exempt_raw.parquet\")"
   ]
  },
  {
   "cell_type": "code",
   "execution_count": 6,
   "id": "df1ae3ca",
   "metadata": {},
   "outputs": [],
   "source": [
    "uc_tax_exempt_all.write_parquet(\"../data/uc_tax_exempt_all.parquet\")"
   ]
  },
  {
   "cell_type": "markdown",
   "id": "fd40a5b5",
   "metadata": {},
   "source": [
    "Assessor - Commercial Valuation Data\n",
    "\n",
    "- Data Description: Commercial valuation data collected and maintained by the Cook County Assessor's Office, from 2021 to present. The office uses this data primarily for valuation and reporting. This dataset consolidates the individual Excel workbooks available on the Assessor's website into a single shared format. Properties are valued using similar valuation methods within each model group, per township, per year (in the year the township is reassessed). This dataset has been cleaned minimally, only enough to fit the source Excel workbooks together - because models are updated for each township in the year it is reassessed, users should expect inconsistencies within columns across time and townships.\n",
    "\n",
    "- Source: https://datacatalog.cookcountyil.gov/Property-Taxation/Assessor-Commercial-Valuation-Data/csik-bsws/about_data\n",
    "- Download Date: Oct 16, 2025\n",
    "- Last Updated: April 10, 2025\n",
    "- Provided By: Cook County Assessor's Office"
   ]
  },
  {
   "cell_type": "code",
   "execution_count": 7,
   "id": "0d7eddda",
   "metadata": {},
   "outputs": [],
   "source": [
    "com_val_raw = pl.read_csv(\"../data/Assessor_-_Commercial_Valuation_Data_20251016.csv\", \n",
    "                            ignore_errors=True,\n",
    "                            schema_overrides={\"keypin\": pl.Utf8,\n",
    "                                                \"pins\": pl.Utf8,\n",
    "                                                \"owner_num\": pl.Utf8,\n",
    "                                                \"township_code\": pl.Utf8})"
   ]
  },
  {
   "cell_type": "code",
   "execution_count": 8,
   "id": "c8cbbab5",
   "metadata": {},
   "outputs": [],
   "source": [
    "# dedupe so that we only have the latest market value\n",
    "\n",
    "com_val = (com_val_raw\n",
    "           .with_columns(\n",
    "                pl.col(\"keypin\").str.replace_all(\"-\",\"\"),\n",
    "                pl.col(\"pins\").str.replace_all(\"-\",\"\"),\n",
    "                pl.col(\"finalmarketvalue\").str.replace_all(r\"\\$\",\"\").str.replace_all(\",\",\"\")\n",
    "                )\n",
    "                .sort(\"year\", descending=True)\n",
    "                .unique(\"keypin\", keep='first', maintain_order=True)\n",
    ")"
   ]
  },
  {
   "cell_type": "markdown",
   "id": "568705af",
   "metadata": {},
   "source": [
    "Assessor - Assessed Values\n",
    "\n",
    "- Data Description: Land, building, and total assessed values for all Cook County parcels, from 1999 to present. The Assessor's Office uses these values for reporting, evaluating assessment performance over time, and research.\n",
    "\n",
    "- Source: https://datacatalog.cookcountyil.gov/Property-Taxation/Assessor-Assessed-Values/uzyt-m557/about_data\n",
    "- Download Date: Oct 16, 2025\n",
    "- Last Updated: Oct 1, 2025\n",
    "- Provided By: Cook County Assessor's Office"
   ]
  },
  {
   "cell_type": "code",
   "execution_count": 9,
   "id": "31307227",
   "metadata": {},
   "outputs": [],
   "source": [
    "ass_val_raw = pl.read_csv(\"../data/Assessor_-_Assessed_Values_20251016.csv\", \n",
    "                            ignore_errors=True,\n",
    "                            schema_overrides={\"pin\": pl.Utf8,\n",
    "                                                \"row_id\": pl.Utf8,\n",
    "                                                \"neighborhood_code\": pl.Utf8,\n",
    "                                                \"township_code\": pl.Utf8})"
   ]
  },
  {
   "cell_type": "code",
   "execution_count": 10,
   "id": "03eeabfb",
   "metadata": {},
   "outputs": [],
   "source": [
    "ass_val = (ass_val_raw\n",
    "           .select([\"pin\", \"tax_year\", \"mailed_tot\", \"certified_tot\", \"board_tot\"])\n",
    "           .with_columns(pl.col(\"mailed_tot\").str.replace_all(r\"\\$\",\"\").str.replace_all(\",\",\"\"),\n",
    "                         pl.col(\"certified_tot\").str.replace_all(r\"\\$\",\"\").str.replace_all(\",\",\"\"),\n",
    "                         pl.col(\"board_tot\").str.replace_all(r\"\\$\",\"\").str.replace_all(\",\",\"\"))\n",
    ")"
   ]
  },
  {
   "cell_type": "markdown",
   "id": "2cfc0a16",
   "metadata": {},
   "source": [
    "Assessor - Parcel Sales\n",
    "\n",
    "- Data Description: Parcel sales for real property in Cook County, from 1999 to present. The Assessor's Office uses this data in its modeling to estimate the fair market value of unsold properties.\n",
    "\n",
    "- Source: https://datacatalog.cookcountyil.gov/Property-Taxation/Assessor-Parcel-Sales/wvhk-k5uv/about_data\n",
    "- Download Date: Oct 16, 2025\n",
    "- Last Updated: Oct 1, 2025\n",
    "- Provided By: Cook County Assessor's Office"
   ]
  },
  {
   "cell_type": "code",
   "execution_count": null,
   "id": "43086805",
   "metadata": {},
   "outputs": [],
   "source": [
    "sales_raw = pl.read_csv(\"../data/Assessor_-_Parcel_Sales_20251016.csv\", \n",
    "                            ignore_errors=True,\n",
    "                            schema_overrides={\"pin\": pl.Utf8,\n",
    "                                                \"row_id\": pl.Utf8,\n",
    "                                                \"neighborhood_code\": pl.Utf8,\n",
    "                                                \"township_code\": pl.Utf8})"
   ]
  },
  {
   "cell_type": "code",
   "execution_count": 30,
   "id": "c5b1f9bb",
   "metadata": {},
   "outputs": [],
   "source": [
    "# dedupe so that we only have the latest sales value\n",
    "sales = sales_raw.with_columns(pl.col(\"sale_price\").str.replace_all(r\"\\$\",\"\").str.replace_all(\",\",\"\")).with_columns(pl.col(\"sale_price\").cast(pl.Float64))\n",
    "\n",
    "\n",
    "sales_dedupe = (sales\n",
    "            .sort(\"year\", descending=True)\n",
    "            .unique(\"pin\", keep='first', maintain_order=True)\n",
    ").select([\"pin\", \"sale_date\", \"sale_price\", \"sale_seller_name\", \"sale_buyer_name\"])"
   ]
  },
  {
   "cell_type": "code",
   "execution_count": null,
   "id": "002390fa",
   "metadata": {},
   "outputs": [],
   "source": [
    "uc_purchases = sales_raw.filter(\n",
    "    (pl.col(\"sale_buyer_name\") == \"UNIVERSITY OF CHICAGO\") |\n",
    "    (pl.col(\"sale_buyer_name\") == \"THE UNIVERSITY OF CHICAGO\") |\n",
    "    (pl.col(\"sale_buyer_name\") == \"LAKE PARK ASSOCIATES  INC\") |\n",
    "    (pl.col(\"sale_buyer_name\") == \"LAKE PARK ASSOCIATES, INC\") |\n",
    "    (pl.col(\"sale_buyer_name\") == \"LAKE PARK ASSOCIATES INC.\") |\n",
    "    (pl.col(\"sale_buyer_name\") == \"LAKE PARK ASSOC INC\") |\n",
    "    (pl.col(\"sale_buyer_name\") == \"LAKE PARK ASSOCIATES INC\") |\n",
    "    (pl.col(\"sale_buyer_name\") == \"LAKE PARK ASSOCIATES, INC.\") \n",
    ")"
   ]
  },
  {
   "cell_type": "code",
   "execution_count": 31,
   "id": "65509b3a",
   "metadata": {},
   "outputs": [],
   "source": [
    "sales.write_parquet(\"../data/sales.parquet\")"
   ]
  },
  {
   "cell_type": "code",
   "execution_count": 14,
   "id": "41c5b6ae",
   "metadata": {},
   "outputs": [],
   "source": [
    "uc_purchases.write_parquet(\"../data/uc_purchases.parquet\")"
   ]
  },
  {
   "cell_type": "markdown",
   "id": "291902ac",
   "metadata": {},
   "source": [
    "Assessor [Archived 05-11-2022] - Property Locations\n",
    "\n",
    "- Data Description: This data set includes property locations and attached spatial data for all Cook County parcels. Spatial matching was based on parcel centroids. Older properties may be missing latitude and longitude data because they are not contained in the most recent parcel shape layer. Brand new properties may be missing a mailing/property address because the postal service has not yet assigned the property an address. Data attached to each PIN is the most recent available. For example, Census tract data is drawn from the 2014-2018 5-year American Community Survey.\n",
    "\n",
    "- Source: https://datacatalog.cookcountyil.gov/Property-Taxation/Assessor-Archived-05-11-2022-Property-Locations/c49d-89sn/about_data\n",
    "- Download Date: Oct 18, 2025\n",
    "- Last Updated: Jan 26, 2021\n",
    "- Provided By: Cook County Assessor's Office"
   ]
  },
  {
   "cell_type": "code",
   "execution_count": 74,
   "id": "3425f390",
   "metadata": {},
   "outputs": [],
   "source": [
    "loc_raw = pl.read_csv(\"../data/Assessor_Archived_05-11-2022_Property_Locations_20251018.csv\", \n",
    "                            ignore_errors=True,\n",
    "                            schema_overrides={\"pin\": pl.Utf8,\n",
    "                                              \"township\": pl.Utf8})\n",
    "\n",
    "loc = loc_raw.with_columns(\n",
    "    (pl.col(\"tract_pop\").str.replace_all(\",\",\"\")).cast(pl.Int64),\n",
    "    (pl.col(\"tract_midincome\").str.replace_all(\",\",\"\")).cast(pl.Int64),\n",
    ")"
   ]
  },
  {
   "cell_type": "markdown",
   "id": "0a051fee",
   "metadata": {},
   "source": [
    "### Merge all datasets"
   ]
  },
  {
   "cell_type": "code",
   "execution_count": 76,
   "id": "03f64f0d",
   "metadata": {},
   "outputs": [],
   "source": [
    "merge = (uc_tax_exempt\n",
    "         .join(sales_dedupe, on=\"pin\", how=\"left\")\n",
    "         .join(ass_val, on=[\"pin\", \"tax_year\"], how='left')\n",
    "         .join(com_val, left_on=\"pin\", right_on=\"keypin\", how='left')\n",
    "         .join(loc, on=\"pin\", how=\"left\")\n",
    ")"
   ]
  },
  {
   "cell_type": "code",
   "execution_count": 77,
   "id": "1876067c",
   "metadata": {},
   "outputs": [],
   "source": [
    "clean_combined = merge.with_columns(\n",
    "    pl.col(\"sale_date\").str.strptime(pl.Date, format=\"%B %d, %Y\"),\n",
    "    pl.col(\"sale_price\").cast(pl.Float64),\n",
    "    pl.col(\"mailed_tot\").cast(pl.Float64),\n",
    "    pl.col(\"certified_tot\").cast(pl.Float64),\n",
    "    pl.col(\"board_tot\").cast(pl.Float64),\n",
    "    pl.col(\"finalmarketvalue\").cast(pl.Float64)\n",
    ")"
   ]
  },
  {
   "cell_type": "code",
   "execution_count": 78,
   "id": "1791add8",
   "metadata": {},
   "outputs": [],
   "source": [
    "clean_combined.write_parquet(\"../data/clean_combined.parquet\")"
   ]
  },
  {
   "cell_type": "code",
   "execution_count": 79,
   "id": "d39917f6",
   "metadata": {},
   "outputs": [],
   "source": [
    "# Not UChicago-specific\n",
    "\n",
    "uni_tax_exempt = (\n",
    "    tax_exempt_raw\n",
    "    .with_columns(\n",
    "        pl.when(pl.col(\"owner_name\") == \"DE PAUL UNIVERSITY\")\n",
    "        .then(pl.lit(\"DEPAUL UNIVERSITY\"))\n",
    "        .when(pl.col(\"owner_name\") == \"UNIVERSITY OF ILLINOIS FOUNDATION\")\n",
    "        .then(pl.lit(\"UNIVERSITY OF ILLINOIS\"))\n",
    "        .when(pl.col(\"owner_name\") == \"LAKE PK ASSOC. INC.\")\n",
    "        .then(pl.lit(\"UNIVERSITY OF CHICAGO\"))         \n",
    "        .when(pl.col(\"owner_name\") == \"LOYOLA UNIV MED CENTER\")\n",
    "        .then(pl.lit(\"LOYOLA UNIV OF CHGO\")) \n",
    "        .when(pl.col(\"owner_name\") == \"JESUIT COM/LOYOLA UNIV\")\n",
    "        .then(pl.lit(\"LOYOLA UNIV OF CHGO\"))     \n",
    "        .otherwise(pl.col(\"owner_name\"))\n",
    "        .alias(\"owner_name\")  \n",
    "    ).filter(\n",
    "        (pl.col(\"property_city\") == \"CHICAGO\") &\n",
    "        (\n",
    "            (pl.col(\"owner_name\").str.contains(\"UNIVERSITY OF CHICAGO\")) |\n",
    "            (pl.col(\"owner_name\").str.contains(\"UNIVERSITY OF ILLINOIS\")) | \n",
    "            (pl.col(\"owner_name\").str.contains(\"LOYOLA UNIV OF CHGO\")) | \n",
    "            (pl.col(\"owner_name\").str.contains(\"DEPAUL UNIVERSITY\")) \n",
    "    )\n",
    "))\n",
    "\n",
    "merge_all = (uni_tax_exempt\n",
    "         .join(sales_dedupe, on=\"pin\", how=\"left\")\n",
    "         .join(ass_val, on=[\"pin\", \"tax_year\"], how='left')\n",
    "         .join(com_val, left_on=\"pin\", right_on=\"keypin\", how='left')\n",
    "         .join(loc, on=\"pin\", how=\"left\")\n",
    ")"
   ]
  },
  {
   "cell_type": "code",
   "execution_count": 80,
   "id": "5cb3d73d",
   "metadata": {},
   "outputs": [],
   "source": [
    "clean_combined_all = merge_all.with_columns(\n",
    "    pl.col(\"sale_date\").str.strptime(pl.Date, format=\"%B %d, %Y\"),\n",
    "    pl.col(\"sale_price\").cast(pl.Float64),\n",
    "    pl.col(\"mailed_tot\").cast(pl.Float64),\n",
    "    pl.col(\"certified_tot\").cast(pl.Float64),\n",
    "    pl.col(\"board_tot\").cast(pl.Float64),\n",
    "    pl.col(\"finalmarketvalue\").cast(pl.Float64)\n",
    ")\n",
    "\n",
    "clean_combined_all.write_parquet(\"../data/clean_combined_all.parquet\")"
   ]
  }
 ],
 "metadata": {
  "kernelspec": {
   "display_name": "chi-heat-dataviz",
   "language": "python",
   "name": "python3"
  },
  "language_info": {
   "codemirror_mode": {
    "name": "ipython",
    "version": 3
   },
   "file_extension": ".py",
   "mimetype": "text/x-python",
   "name": "python",
   "nbconvert_exporter": "python",
   "pygments_lexer": "ipython3",
   "version": "3.13.3"
  }
 },
 "nbformat": 4,
 "nbformat_minor": 5
}
